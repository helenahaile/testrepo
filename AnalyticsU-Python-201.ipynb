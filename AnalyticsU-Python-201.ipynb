{
 "cells": [
  {
   "cell_type": "markdown",
   "metadata": {},
   "source": [
    "<img src=\"https://www.assistancebeyondcrisis.org.au/wp-content/uploads/2017/05/logo-deloitte.png\" width=\"150\" align = \"right\">"
   ]
  },
  {
   "cell_type": "markdown",
   "metadata": {},
   "source": [
    "# AnalyticsU - Python 201"
   ]
  },
  {
   "cell_type": "markdown",
   "metadata": {},
   "source": [
    "# Intermediate Python Concepts"
   ]
  },
  {
   "cell_type": "markdown",
   "metadata": {},
   "source": [
    "This course covers several intermediate-level Python concepts that extend to multiple domains including analytics and data science:\n",
    "\n",
    "1. **Comprehensions (list, set, dict)** - creating new data structures with idiomatic Python code\n",
    "2. **Object-oriented programming (OOP)** - a programming paradigm that represents things as objects\n",
    "\n",
    "These are sometimes referred to as **native** Python concepts because they are objects built into the Python interpreter or from the Python Standard Library, rather than being specific to a third-party Python package."
   ]
  },
  {
   "cell_type": "markdown",
   "metadata": {},
   "source": [
    "# Prequisites: Imports"
   ]
  },
  {
   "cell_type": "markdown",
   "metadata": {},
   "source": [
    "You'll need to access the following imports throughout this lesson:"
   ]
  },
  {
   "cell_type": "code",
   "execution_count": null,
   "metadata": {},
   "outputs": [],
   "source": [
    "import bisect\n",
    "import statistics\n",
    "from collections import Counter\n",
    "from datetime import date, timedelta\n",
    "from math import radians, asin, cos, isclose, sin, sqrt\n",
    "from typing import Container, Optional\n",
    "\n",
    "import pandas as pd"
   ]
  },
  {
   "cell_type": "markdown",
   "metadata": {},
   "source": [
    "The first several lines here import from Python's Standard Library.  These are the \"[batteries included](https://docs.python.org/3/library/)\" part of any Python distribution.\n",
    "\n",
    "The last import, `pandas`, is a third-party library.\n",
    "\n",
    "_Note_: To make your code more readable in a large codebase, it is good practice to **organize import statements** in line with [Python's PEP 8](https://www.python.org/dev/peps/pep-0008/#imports) style guide.  Generally, that means using imports in the following order:\n",
    "\n",
    "1. Standard library imports (such as `datetime` or `bisect`)\n",
    "2. Related third party imports (such as `pandas`)\n",
    "3. Local application/library specific imports (not shown above)\n",
    "\n",
    "...with a blank line between each group.\n",
    "\n",
    "_Troubleshooting_: If you're seeing `ModuleNotFoundError: No module named 'pandas'`, you will need to [install Pandas](https://pandas.pydata.org/docs/getting_started/install.html) from the command line through `conda` or `pip`."
   ]
  },
  {
   "cell_type": "markdown",
   "metadata": {},
   "source": [
    "# Part 1: Comprehensions"
   ]
  },
  {
   "cell_type": "markdown",
   "metadata": {},
   "source": [
    "In AnalyticsU Python101 and/or the [Python tutorial](https://docs.python.org/3/tutorial/), you were introduced to elementary data structures such as `list`, `tuple`, `set`, and `dict`.\n",
    "\n",
    "You can [iterate](https://docs.python.org/3/library/stdtypes.html#typeiter) over the elements of these data structures using [control flow](https://docs.python.org/3/tutorial/controlflow.html) such as `for` and `while`, optionally appending or adding to a new data structure as a result. \n",
    "\n",
    "An alternative and somtimes more idiomatic way to iterate is to use a [comprehension](https://docs.python.org/3/tutorial/datastructures.html#list-comprehensions).  These come in several forms:\n",
    "\n",
    "| Type | Example |\n",
    "| ---- | ------- |\n",
    "| `list` comprehension | `[i ** 2 for i in range(5)]` |\n",
    "| `set` comprehension | `{i[0].casefold() for i in (\"sampson\", \"Shelby\", \"pat\")}` |\n",
    "| `dict` comprehension | `{name: len(name) for i in (\"sampson\", \"Shelby\", \"pat\")}` |\n",
    "\n",
    "_Note_: The term before \"comprehension\" here refers to the data structure that is being _formed_, not to the data structure that is being iterated over.  In otherwords, a _list comprehension_ will uses brackets `[ ... ]` to form a new list, and could be iterating over another `list`, a `dict` or something else."
   ]
  },
  {
   "cell_type": "markdown",
   "metadata": {},
   "source": [
    "## List Comprehensions"
   ]
  },
  {
   "cell_type": "markdown",
   "metadata": {},
   "source": [
    "Square each number in `range(5)`:"
   ]
  },
  {
   "cell_type": "code",
   "execution_count": null,
   "metadata": {},
   "outputs": [],
   "source": [
    "print([i ** 2 for i in range(5)])"
   ]
  },
  {
   "cell_type": "markdown",
   "metadata": {},
   "source": [
    "Iterate over a `tuple` rather than `range` object:"
   ]
  },
  {
   "cell_type": "code",
   "execution_count": null,
   "metadata": {},
   "outputs": [],
   "source": [
    "print([i ** 2 for i in (2, 4, 8, 16)])"
   ]
  },
  {
   "cell_type": "markdown",
   "metadata": {},
   "source": [
    "Find only even numbers over the range `[0, 19]`:"
   ]
  },
  {
   "cell_type": "code",
   "execution_count": null,
   "metadata": {},
   "outputs": [],
   "source": [
    "print([i for i in range(20) if i % 2 == 0])"
   ]
  },
  {
   "cell_type": "markdown",
   "metadata": {},
   "source": [
    "Define a `list` of addresses:"
   ]
  },
  {
   "cell_type": "code",
   "execution_count": null,
   "metadata": {},
   "outputs": [],
   "source": [
    "addresses = [\n",
    "    \"Fort Meade, MD\",\n",
    "    \"Baltimore, MD\",\n",
    "    \"Fort Worth, TX\",\n",
    "    \"Culpeper, VA\",\n",
    "    \"Boise, ID\",\n",
    "    \"Baltimore, MD\",\n",
    "]"
   ]
  },
  {
   "cell_type": "markdown",
   "metadata": {},
   "source": [
    "Using a traditional `for`-loop, create a new `list` that contains only cities in `MD`:"
   ]
  },
  {
   "cell_type": "code",
   "execution_count": null,
   "metadata": {},
   "outputs": [],
   "source": [
    "only_maryland = []\n",
    "for a in addresses:\n",
    "    if a.endswith(\"MD\"):\n",
    "        only_maryland.append(a)\n",
    "\n",
    "print(only_maryland)"
   ]
  },
  {
   "cell_type": "markdown",
   "metadata": {},
   "source": [
    "The above can be condensed into a `list` comprehension:"
   ]
  },
  {
   "cell_type": "code",
   "execution_count": null,
   "metadata": {},
   "outputs": [],
   "source": [
    "only_maryland_comp = [a for a in addresses if a.endswith(\"MD\")]\n",
    "\n",
    "print(only_maryland_comp)"
   ]
  },
  {
   "cell_type": "markdown",
   "metadata": {},
   "source": [
    "The input may be more involved, such as a `dict` mapping student names to vectors of grades:"
   ]
  },
  {
   "cell_type": "code",
   "execution_count": null,
   "metadata": {},
   "outputs": [],
   "source": [
    "grades = {\n",
    "    \"tom\": [98.7, 94.2, 89.0],\n",
    "    \"luke\": [85.7, 83.0, 89.0],\n",
    "    \"jenn\": [99.1, 99.2, 100.0],\n",
    "}"
   ]
  },
  {
   "cell_type": "markdown",
   "metadata": {},
   "source": [
    "You can find the unioned, flat list of grades by iterating over the dictionary `values` with a [**nested** `list` comprehension](https://docs.python.org/3/tutorial/datastructures.html#nested-list-comprehensions):"
   ]
  },
  {
   "cell_type": "code",
   "execution_count": null,
   "metadata": {
    "scrolled": false
   },
   "outputs": [],
   "source": [
    "all_grades = [g for v in grades.values() for g in v]\n",
    "print(all_grades)"
   ]
  },
  {
   "cell_type": "markdown",
   "metadata": {},
   "source": [
    "## Exercises Comprehensions (Part 1):"
   ]
  },
  {
   "cell_type": "markdown",
   "metadata": {},
   "source": [
    "### Exercise 1\n",
    "\n",
    "**<span style=\"color:red\">Challenge:</span>** Now that we have all the words and the lengths for each word, let's see if we can get a list of just the lengths of the words in the sentence. Produce a `list` variable called `lengths` that contains the length of each word in `sentence`."
   ]
  },
  {
   "cell_type": "code",
   "execution_count": null,
   "metadata": {},
   "outputs": [],
   "source": [
    "sentence = \"I love learning Python and applying it to solve complex problems\""
   ]
  },
  {
   "cell_type": "markdown",
   "metadata": {},
   "source": [
    "**<span style=\"color:green\">Add your answer here:</span>**"
   ]
  },
  {
   "cell_type": "markdown",
   "metadata": {},
   "source": [
    "> Hint: you can use `sentence.split()` to split the `str` into a `list`, and then iterate over that list\n"
   ]
  },
  {
   "cell_type": "code",
   "execution_count": null,
   "metadata": {},
   "outputs": [],
   "source": [
    "# --- INSERT ANSWER BELOW THIS LINE ---\n",
    "\n",
    "lengths = \"?\""
   ]
  },
  {
   "cell_type": "markdown",
   "metadata": {},
   "source": [
    "**<span style=\"color:blue\">Check your answer:</span>**"
   ]
  },
  {
   "cell_type": "code",
   "execution_count": null,
   "metadata": {},
   "outputs": [],
   "source": [
    "assert lengths == [1, 4, 8, 6, 3, 8, 2, 2, 5, 7, 8], lengths"
   ]
  },
  {
   "cell_type": "markdown",
   "metadata": {},
   "source": [
    "### Exercise 2\n",
    "\n",
    "**<span style=\"color:red\">Challenge:</span>** Given `sentence`, create a new sentence that contains only the words from `sentence` that **do not start with a vowel** (_a, e, i, o, u_), case-insensitive.\n",
    "\n",
    "The new sentence should be a `str` variabled named `new_sentence`."
   ]
  },
  {
   "cell_type": "code",
   "execution_count": null,
   "metadata": {},
   "outputs": [],
   "source": [
    "sentence = \"\"\"\\\n",
    "I love learning Python and applying it to solve complex problems.\n",
    "Lists can be troublesome but I can handle it with list comprehensions in Python.\"\"\""
   ]
  },
  {
   "cell_type": "markdown",
   "metadata": {},
   "source": [
    "**<span style=\"color:green\">Add your answer here:</span>**"
   ]
  },
  {
   "cell_type": "markdown",
   "metadata": {},
   "source": [
    "> Hint: You can use the `str.startswith()` method to determine if a string starts with a given letter. If you pass a list or tuple of letters, the method will evaluate whether the string starts with any of those characters. Example:\n",
    ">\n",
    "> ```python\n",
    "> >>> \"who\".startswith((\"a\", \"e\", \"i\", \"o\", \"u\"))\n",
    "> False\n",
    "> ```"
   ]
  },
  {
   "cell_type": "code",
   "execution_count": null,
   "metadata": {},
   "outputs": [],
   "source": [
    "# --- INSERT ANSWER BELOW THIS LINE ---\n",
    "\n"
   ]
  },
  {
   "cell_type": "markdown",
   "metadata": {},
   "source": [
    "**<span style=\"color:blue\">Check your answer:</span>**"
   ]
  },
  {
   "cell_type": "code",
   "execution_count": null,
   "metadata": {},
   "outputs": [],
   "source": [
    "assert new_sentence == 'love learning Python to solve complex problems. Lists can be troublesome but can handle with list comprehensions Python.'"
   ]
  },
  {
   "cell_type": "markdown",
   "metadata": {},
   "source": [
    "### Exercise 3\n",
    "\n",
    "**<span style=\"color:red\">Challenge:</span>** Write a function named `divisible()` that takes in two variables (`max_num` and `test_num`) where the function loops through the range from 0 to `max_num` and checks to see which numbers are divisible by `test_num`. The function should return a list of all numbers in range `max_num` divisible by `test_num`.\n",
    "\n",
    "Extra credit: use a `list` comprehension inside the definition of `divisible()`.\n",
    "\n",
    "Example:\n",
    "\n",
    "```python\n",
    ">>> divisible(7, 62)  # numbers less than 62 that are divisible by 7.\n",
    "[0, 7, 14, 21, 28, 35, 42, 49, 56]\n",
    "```"
   ]
  },
  {
   "cell_type": "markdown",
   "metadata": {},
   "source": [
    "**<span style=\"color:green\">Add your answer here:</span>**"
   ]
  },
  {
   "cell_type": "code",
   "execution_count": null,
   "metadata": {},
   "outputs": [],
   "source": [
    "# --- INSERT ANSWER BELOW THIS LINE ---\n",
    "\n",
    "def divisible(test_num: int, max_num: int) -> list:\n",
    "    raise NotImplementedError"
   ]
  },
  {
   "cell_type": "markdown",
   "metadata": {},
   "source": [
    "**<span style=\"color:blue\">Check your answer:</span>**"
   ]
  },
  {
   "cell_type": "code",
   "execution_count": null,
   "metadata": {},
   "outputs": [],
   "source": [
    "assert \"divisible\" in globals(), \"must define divisible() function\"\n",
    "test = divisible(7, 62)\n",
    "\n",
    "assert test == [0, 7, 14, 21, 28, 35, 42, 49, 56]"
   ]
  },
  {
   "cell_type": "markdown",
   "metadata": {},
   "source": [
    "### Exercise 4\n",
    "\n",
    "**<span style=\"color:red\">Challenge:</span>** Write another list comprehension that checks each value in your previous list comprehension and states whether it's even or odd.\n",
    "\n",
    "The result should be a `list` of `str` named `even_odd` that contains the strings `\"Even\"` or `\"Odd\"` based on whether the corresponding number is even or odd."
   ]
  },
  {
   "cell_type": "markdown",
   "metadata": {},
   "source": [
    "**<span style=\"color:green\">Add your answer here:</span>**"
   ]
  },
  {
   "cell_type": "code",
   "execution_count": null,
   "metadata": {},
   "outputs": [],
   "source": [
    "# --- INSERT ANSWER BELOW THIS LINE ---\n",
    "\n"
   ]
  },
  {
   "cell_type": "markdown",
   "metadata": {},
   "source": [
    "**<span style=\"color:blue\">Check your answer:</span>**"
   ]
  },
  {
   "cell_type": "code",
   "execution_count": null,
   "metadata": {},
   "outputs": [],
   "source": [
    "assert even_odd == ['Even', 'Odd', 'Even', 'Odd', 'Even', 'Odd', 'Even', 'Odd', 'Even']"
   ]
  },
  {
   "cell_type": "markdown",
   "metadata": {},
   "source": [
    "### Exercise 5\n",
    "**<span style=\"color:red\">Challenge:</span>** Given a sequence of numbers, `seq`, find the sum of elements that are **greater than 20**. The output should be a variable called `total` that is an `int`."
   ]
  },
  {
   "cell_type": "code",
   "execution_count": null,
   "metadata": {},
   "outputs": [],
   "source": [
    "seq = [-21, 4, 15, 21, 25, 78, 19, 4]"
   ]
  },
  {
   "cell_type": "markdown",
   "metadata": {},
   "source": [
    "**<span style=\"color:green\">Add your answer here:</span>**"
   ]
  },
  {
   "cell_type": "code",
   "execution_count": null,
   "metadata": {},
   "outputs": [],
   "source": [
    "# --- INSERT ANSWER BELOW THIS LINE ---\n",
    "\n"
   ]
  },
  {
   "cell_type": "markdown",
   "metadata": {},
   "source": [
    "Alternative answer, using a traditional `for `loop:"
   ]
  },
  {
   "cell_type": "code",
   "execution_count": null,
   "metadata": {},
   "outputs": [],
   "source": [
    "# --- INSERT ANSWER BELOW THIS LINE ---\n",
    "\n"
   ]
  },
  {
   "cell_type": "markdown",
   "metadata": {},
   "source": [
    "**<span style=\"color:blue\">Check your answer:</span>**"
   ]
  },
  {
   "cell_type": "code",
   "execution_count": null,
   "metadata": {},
   "outputs": [],
   "source": [
    "assert total == 124"
   ]
  },
  {
   "cell_type": "markdown",
   "metadata": {},
   "source": [
    "<br>"
   ]
  },
  {
   "cell_type": "markdown",
   "metadata": {},
   "source": [
    "## Set Comprehensions"
   ]
  },
  {
   "cell_type": "markdown",
   "metadata": {},
   "source": [
    "Can you find the set of _unique cities_ in Maryland from `addresses`?"
   ]
  },
  {
   "cell_type": "code",
   "execution_count": null,
   "metadata": {},
   "outputs": [],
   "source": [
    "addresses = [\n",
    "    \"Fort Meade, MD\",\n",
    "    \"Baltimore, MD\",\n",
    "    \"Fort Worth, TX\",\n",
    "    \"Culpeper, VA\",\n",
    "    \"Boise, ID\",\n",
    "    \"Baltimore, MD\",\n",
    "]"
   ]
  },
  {
   "cell_type": "code",
   "execution_count": null,
   "metadata": {},
   "outputs": [],
   "source": [
    "only_maryland_cities = set()\n",
    "for a in addresses:\n",
    "    if a.endswith(\"MD\"):\n",
    "        city = a.partition(\",\")[0]\n",
    "        only_maryland_cities.add(city)\n",
    "\n",
    "print(only_maryland_cities)"
   ]
  },
  {
   "cell_type": "markdown",
   "metadata": {},
   "source": [
    "You can achieve this in one line of code with a **set comprehension**, which looks like a list comprehension except that it will remove duplicate entries from the result:"
   ]
  },
  {
   "cell_type": "code",
   "execution_count": null,
   "metadata": {},
   "outputs": [],
   "source": [
    "{a.partition(\",\")[0] for a in addresses if a.endswith(\"MD\")}"
   ]
  },
  {
   "cell_type": "markdown",
   "metadata": {},
   "source": [
    "_Note_: Unlike a `list` or `tuple`, a `set` has no concept of sortedness, and is most commonly used for fast **membership testing**."
   ]
  },
  {
   "cell_type": "markdown",
   "metadata": {},
   "source": [
    "<br>"
   ]
  },
  {
   "cell_type": "markdown",
   "metadata": {},
   "source": [
    "## Dict Comprehensions"
   ]
  },
  {
   "cell_type": "markdown",
   "metadata": {},
   "source": [
    "A related form is a **dict comprehension**:"
   ]
  },
  {
   "cell_type": "code",
   "execution_count": null,
   "metadata": {},
   "outputs": [],
   "source": [
    "import statistics\n",
    "\n",
    "grades = [\n",
    "    (\"tom\", [98.7, 94.2, 89.0]),\n",
    "    (\"luke\", [85.7, 83.0, 89.0]),\n",
    "    (\"jenn\", [99.1, 99.2, 100.0]),\n",
    "]"
   ]
  },
  {
   "cell_type": "markdown",
   "metadata": {},
   "source": [
    "Here is how you could use a `for` loop to find each student's mean grade:"
   ]
  },
  {
   "cell_type": "code",
   "execution_count": null,
   "metadata": {},
   "outputs": [],
   "source": [
    "avg_grades = {}\n",
    "for student, gradeset in grades:\n",
    "    avg_grades[student] = round(statistics.mean(gradeset), 2)\n",
    "    \n",
    "print(avg_grades)"
   ]
  },
  {
   "cell_type": "markdown",
   "metadata": {},
   "source": [
    "And here is the same result, but with a `dict` comprehension:"
   ]
  },
  {
   "cell_type": "code",
   "execution_count": null,
   "metadata": {},
   "outputs": [],
   "source": [
    "{student: round(statistics.mean(gradeset), 2) for student, gradeset in grades}"
   ]
  },
  {
   "cell_type": "markdown",
   "metadata": {},
   "source": [
    "### Bonus: Generator Expressions"
   ]
  },
  {
   "cell_type": "markdown",
   "metadata": {},
   "source": [
    "Related to comprehensions are [generator expressions](https://www.python.org/dev/peps/pep-0289/).  These let you avoid creating an intermediate `list` object in memory if you only need to extract a particular data point from it:"
   ]
  },
  {
   "cell_type": "code",
   "execution_count": null,
   "metadata": {},
   "outputs": [],
   "source": [
    "stockdata = [\n",
    "    {\"ticker\": \"GE\", \"pct_chg\": -2.0},\n",
    "    {\"ticker\": \"GE\", \"pct_chg\": 2.1},\n",
    "    {\"ticker\": \"INTC\", \"pct_chg\": 0.1},\n",
    "    {\"ticker\": \"INTC\", \"pct_chg\": 0.3},\n",
    "    {\"ticker\": \"INTC\", \"pct_chg\": -2.9},\n",
    "]\n",
    "\n",
    "max_ge_increase = max(row[\"pct_chg\"] for row in stockdata if row[\"ticker\"] == \"GE\")\n",
    "print(max_ge_increase)"
   ]
  },
  {
   "cell_type": "markdown",
   "metadata": {},
   "source": [
    "As a second example, you can reuse `all_grades` from above to find the count of grades by 10-percent bands:"
   ]
  },
  {
   "cell_type": "code",
   "execution_count": null,
   "metadata": {},
   "outputs": [],
   "source": [
    "from collections import Counter\n",
    "\n",
    "all_grades = [98.7, 94.2, 89.0, 85.7, 83.0, 89.0, 99.1, 99.2, 100.0]\n",
    "print(Counter(i // 10 * 10 for i in all_grades))"
   ]
  },
  {
   "cell_type": "markdown",
   "metadata": {},
   "source": [
    "## Exercises: Comprehension (Part 2)"
   ]
  },
  {
   "cell_type": "markdown",
   "metadata": {},
   "source": [
    "### Exercise 6\n",
    "\n",
    "**<span style=\"color:red\">Challenge:</span>** Given the variable `sentence` below, produce a dictionary (`dict`) called `len_words` that shows the **length of each word in the sentence**.\n",
    "\n",
    "- The keys should be `str` containing individual words\n",
    "- The values should be `int` containing the length of that word"
   ]
  },
  {
   "cell_type": "code",
   "execution_count": null,
   "metadata": {},
   "outputs": [],
   "source": [
    "sentence = \"I love learning Python and applying it to solve complex problems\""
   ]
  },
  {
   "cell_type": "markdown",
   "metadata": {},
   "source": [
    "> Hint: the `.split()` method splits up a `str` into a `list` based on a separator character. The default argument is `' '` but can be changed to a specific character."
   ]
  },
  {
   "cell_type": "markdown",
   "metadata": {},
   "source": [
    "**<span style=\"color:green\">Add your answer here:</span>**"
   ]
  },
  {
   "cell_type": "code",
   "execution_count": null,
   "metadata": {},
   "outputs": [],
   "source": [
    "# --- INSERT ANSWER BELOW THIS LINE ---\n",
    "\n"
   ]
  },
  {
   "cell_type": "markdown",
   "metadata": {},
   "source": [
    "**<span style=\"color:blue\">Check your answer:</span>**"
   ]
  },
  {
   "cell_type": "code",
   "execution_count": null,
   "metadata": {},
   "outputs": [],
   "source": [
    "assert len_words == {\n",
    "    'I': 1,\n",
    "    'love': 4,\n",
    "    'learning': 8,\n",
    "    'Python': 6,\n",
    "    'and': 3,\n",
    "    'applying': 8,\n",
    "    'it': 2,\n",
    "    'to': 2,\n",
    "    'solve': 5,\n",
    "    'complex': 7,\n",
    "    'problems': 8\n",
    "}"
   ]
  },
  {
   "cell_type": "markdown",
   "metadata": {},
   "source": [
    "### Exercise 7\n",
    "\n",
    "**<span style=\"color:red\">Challenge:</span>** Using a **dictionary comprehension**, construct a dictionary (`dict`) that displays whether numbers 1 through 10 (inclusive) are 'Odd' or 'Even':\n",
    "\n",
    "```python\n",
    "{1: 'Odd',\n",
    " 2: 'Even',\n",
    " 3: 'Odd',\n",
    " 4: 'Even',\n",
    " 5: 'Odd',\n",
    " 6: 'Even',\n",
    " 7: 'Odd',\n",
    " 8: 'Even',\n",
    " 9: 'Odd',\n",
    " 10: 'Even'}\n",
    "```\n",
    "\n",
    "> Hint: you can iterate over `range(1, 11)` within the comprehension."
   ]
  },
  {
   "cell_type": "markdown",
   "metadata": {},
   "source": [
    "**<span style=\"color:green\">Add your answer here:</span>**"
   ]
  },
  {
   "cell_type": "code",
   "execution_count": null,
   "metadata": {},
   "outputs": [],
   "source": [
    "# --- INSERT ANSWER BELOW THIS LINE ---\n",
    "\n"
   ]
  },
  {
   "cell_type": "markdown",
   "metadata": {},
   "source": [
    "**<span style=\"color:blue\">Check your answer:</span>**"
   ]
  },
  {
   "cell_type": "code",
   "execution_count": null,
   "metadata": {},
   "outputs": [],
   "source": [
    "assert dict_check == {\n",
    "    1: 'Odd',\n",
    "     2: 'Even',\n",
    "     3: 'Odd',\n",
    "     4: 'Even',\n",
    "     5: 'Odd',\n",
    "     6: 'Even',\n",
    "     7: 'Odd',\n",
    "     8: 'Even',\n",
    "     9: 'Odd',\n",
    "     10: 'Even'\n",
    "}"
   ]
  },
  {
   "cell_type": "markdown",
   "metadata": {},
   "source": [
    "### Exercise 8\n",
    "You have a bag containing magnets. Each magnet contains an individual letter of the alphabet, such as `'a'` or `'b'`.\n",
    "\n",
    "**<span style=\"color:red\">Challenge:</span>** Write a function `can_you_spell()` that returns `True` or `False` if a person's name can be spelled using letters from the bag, _without replacement_."
   ]
  },
  {
   "cell_type": "markdown",
   "metadata": {},
   "source": [
    "`name` is the person's name, such as `\"lynn\"`, while `bag` is a list of characters representing letters in the bag, such as `[\"y\", \"n\", \"p\", \"g\", \"l\"]`."
   ]
  },
  {
   "cell_type": "markdown",
   "metadata": {},
   "source": [
    "**<span style=\"color:green\">Add your answer here:</span>**"
   ]
  },
  {
   "cell_type": "code",
   "execution_count": null,
   "metadata": {},
   "outputs": [],
   "source": [
    "# --- INSERT ANSWER BELOW THIS LINE ---\n",
    "\n",
    "def can_you_spell(x: str, y: list[str]) -> bool:\n",
    "    raise NotImplemented"
   ]
  },
  {
   "cell_type": "markdown",
   "metadata": {},
   "source": [
    "> Note: `Container` is more broad than a `list`. This denotes that, for example, a `tuple[str]` would also be an acceptable input."
   ]
  },
  {
   "cell_type": "markdown",
   "metadata": {},
   "source": [
    "**<span style=\"color:blue\">Check your answer:</span>**"
   ]
  },
  {
   "cell_type": "code",
   "execution_count": null,
   "metadata": {},
   "outputs": [],
   "source": [
    "assert can_you_spell(\"lynn\", [\"y\", \"n\", \"p\", \"g\", \"n\", \"l\"])"
   ]
  },
  {
   "cell_type": "code",
   "execution_count": null,
   "metadata": {},
   "outputs": [],
   "source": [
    "assert not can_you_spell(\"lynn\", [\"y\", \"n\", \"p\", \"g\", \"l\"])"
   ]
  },
  {
   "cell_type": "code",
   "execution_count": null,
   "metadata": {},
   "outputs": [],
   "source": [
    "assert not can_you_spell(\"lynn\", [\"n\", \"o\", \"p\", \"e\"])"
   ]
  },
  {
   "cell_type": "markdown",
   "metadata": {},
   "source": [
    "<br>"
   ]
  },
  {
   "cell_type": "markdown",
   "metadata": {},
   "source": [
    "## Part 2: Object-Oriented Programming (OOP)"
   ]
  },
  {
   "cell_type": "markdown",
   "metadata": {},
   "source": [
    "One way to help define *object-oriented programming** is to contrast it to what is it _not_.\n",
    "\n",
    "**Functional programming** (contrasted to object-oriented programming) is a programming style that breaks programs down into functions that take inputs, produce outputs, use **immutable** data structures heavily, and does not change state of function parameters."
   ]
  },
  {
   "cell_type": "markdown",
   "metadata": {},
   "source": [
    "### Functional Programming"
   ]
  },
  {
   "cell_type": "markdown",
   "metadata": {},
   "source": [
    "An example of functional programming is to decompose the calculation of [sample standard deviation](https://en.wikipedia.org/wiki/Standard_deviation) down into its parts.:\n",
    "\n",
    "\\begin{equation*}\n",
    "s = {\\sqrt {{\\frac {1}{N-1}}\\sum _{i=1}^{N}\\left(x_{i}-{\\bar {x}}\\right)^{2}}}\n",
    "\\end{equation*}\n",
    "\n",
    "where:\n",
    "\n",
    "- $s$ is the resulting sample standard deviation\n",
    "- ${\\bar {x}}$ is the sample mean\n",
    "- $x_{i}$ represents each observation\n",
    "- $N$ is the number of observations\n",
    "- $\\sum _{i=1}^{N}\\left(x_{i}-{\\bar {x}}\\right)^{2}$ is the **sum of squared deviations**"
   ]
  },
  {
   "cell_type": "markdown",
   "metadata": {},
   "source": [
    "Here's the 'messy' way of calculating `s`:"
   ]
  },
  {
   "cell_type": "code",
   "execution_count": null,
   "metadata": {},
   "outputs": [],
   "source": [
    "import math\n",
    "\n",
    "data = (727.7, 1086.5, 1091.0, 1361.3, 1490.5, 1956.1)\n",
    "N = len(data)\n",
    "mean = sum(data) / len(data)\n",
    "sum_of_sqdev = 0\n",
    "for obs in data:\n",
    "    sum_of_sqdev += ((obs - mean) ** 2)\n",
    "s = math.sqrt(sum_of_sqdev / (N - 1))\n",
    "print(s)"
   ]
  },
  {
   "cell_type": "markdown",
   "metadata": {},
   "source": [
    "Here's how you can break this down into Python functions:"
   ]
  },
  {
   "cell_type": "code",
   "execution_count": null,
   "metadata": {},
   "outputs": [],
   "source": [
    "from math import sqrt\n",
    "\n",
    "def sample_mean(seq: tuple) -> float:\n",
    "    \"\"\"Compute the arithmetic mean of sequence `seq`.\"\"\"\n",
    "    return sum(seq) / len(seq)\n",
    "\n",
    "def squared_deviations(seq, mean) -> list:\n",
    "    \"\"\"Derive sequence of square deviations from `mean`, for each `i` in seq.\"\"\"\n",
    "    return [(i - mean) ** 2 for i in seq]\n",
    "\n",
    "def sample_stdev(seq) -> float:\n",
    "    \"\"\"Compute sample standard deviation given a sequence of numbers.\"\"\"\n",
    "    mean = sample_mean(seq)\n",
    "    devs = squared_deviations(seq, mean)\n",
    "    N = len(seq)\n",
    "    result = sqrt(sum(devs) / (N - 1))\n",
    "    return result"
   ]
  },
  {
   "cell_type": "markdown",
   "metadata": {},
   "source": [
    "You've now added these three functions to the **global namespace**, but the variables defined within each function body (such as `devs = ...`) are **local** (internal) to those functions."
   ]
  },
  {
   "cell_type": "code",
   "execution_count": null,
   "metadata": {},
   "outputs": [],
   "source": [
    "# A sequence (sample) of observations\n",
    "data = (727.7, 1086.5, 1091.0, 1361.3, 1490.5, 1956.1)\n",
    "\n",
    "# Assign the standard deviation to the variable sd\n",
    "sd = sample_stdev(data)\n",
    "print(f\"Sample standard deviation of metabolic rate data: {sd:.2f}\")"
   ]
  },
  {
   "cell_type": "markdown",
   "metadata": {},
   "source": [
    "The `data` object is unchanged after being passed as a parameter to `sample_stdev`.\n",
    "\n",
    "> Python passes arguments neither by reference nor by value, but by assignment. For more detail, see [Pass by Reference in Python](https://realpython.com/python-pass-by-reference/)"
   ]
  },
  {
   "cell_type": "markdown",
   "metadata": {},
   "source": [
    "### What Makes Functional Programming \"Functional\"?"
   ]
  },
  {
   "cell_type": "markdown",
   "metadata": {},
   "source": [
    "- A program is broken into smaller, concise functions as individual building blocks.\n",
    "- Functions don't attempt to change state (mutate) their arguments."
   ]
  },
  {
   "cell_type": "markdown",
   "metadata": {},
   "source": [
    "### The Functional Style: More Reading"
   ]
  },
  {
   "cell_type": "markdown",
   "metadata": {},
   "source": [
    "Aside from the `sample_stdev()`, Python also has other features that let you write in a functional style, such as:\n",
    "\n",
    "- [Built-in functions](https://docs.python.org/3/library/functions.html) such as `map()` and `filter()`\n",
    "- Libraries and modules such as [`itertools`](https://docs.python.org/3/library/itertools.html) and [`functools`](https://docs.python.org/3/library/functools.html)\n",
    "\n",
    "Further reading:\n",
    "\n",
    "- **docs.python.org**: [Functional HOWTO](https://docs.python.org/3/howto/functional.html)\n",
    "- **realpython.com**: [Functional Programming in Python](https://realpython.com/courses/functional-programming-python/)"
   ]
  },
  {
   "cell_type": "markdown",
   "metadata": {},
   "source": [
    "### Intro to OOP"
   ]
  },
  {
   "cell_type": "markdown",
   "metadata": {},
   "source": [
    "Object-oriented programming: a way to **structure** your code by **bundling** related properties and behaviors into individual objects. ([source](https://realpython.com/python3-object-oriented-programming/))\n",
    "\n",
    "One prominent feature of OOP is a **class**.\n",
    "\n",
    "A class is like a **blueprint**.  You **instantiate** a class to make individual **instances** of the blueprint.\n",
    "\n",
    "Let's get down to it and create an `Employee` **class**.\n",
    "\n",
    "What should this class do for us?\n",
    "\n",
    "- You should be able to create **instances** of the class to **hold data** for individual employees (level, name, home office, etc)\n",
    "- It should let you associate the employee with a timesheet\n",
    "- It should provide you some **instance methods** that derive additional insights about that employee\n",
    "\n",
    "A class is like a **blueprint**; you define a `class` once:"
   ]
  },
  {
   "cell_type": "code",
   "execution_count": null,
   "metadata": {},
   "outputs": [],
   "source": [
    "class Employee:\n",
    "\n",
    "    valid_levels = (\n",
    "        \"analyst\",\n",
    "        \"consultant\",\n",
    "        \"senior consultant\",\n",
    "        \"manager\",\n",
    "        \"senior manager\",\n",
    "        \"partner\",\n",
    "        \"principal\",\n",
    "        \"managing director\",\n",
    "    )\n",
    "\n",
    "    def __init__(self, lastname: str, firstname: str, level: str):\n",
    "        self.lastname = lastname\n",
    "        self.firstname = firstname\n",
    "        level = level.casefold()\n",
    "        if level not in self.valid_levels:\n",
    "            raise ValueError(f\"Invalid level: {level}\")\n",
    "        self.level = level\n",
    "\n",
    "    def __str__(self):\n",
    "        \"\"\"Let str(x) return a useful string representation of the Employee.\"\"\"\n",
    "        return f\"{self.lastname}, {self.firstname} [{self.__class__.__name__} - {self.level}]\"\n",
    "\n",
    "    def is_ppmd(self) -> bool:\n",
    "        \"\"\"Is this person a PPMD? True if so, False otherwise.\"\"\"\n",
    "        return self.level in (\"partner\", \"principal\", \"managing director\")"
   ]
  },
  {
   "cell_type": "markdown",
   "metadata": {},
   "source": [
    "You **instantiate** a class to make individual **instances** of the blueprint."
   ]
  },
  {
   "cell_type": "code",
   "execution_count": null,
   "metadata": {},
   "outputs": [],
   "source": [
    "employee_1 = Employee(lastname=\"Sears\", firstname=\"Brandon\", level=\"manager\")\n",
    "employee_2 = Employee(lastname=\"Gallagher\", firstname=\"Layne\", level=\"partner\")\n",
    "\n",
    "print(employee_1)\n",
    "print(employee_2)"
   ]
  },
  {
   "cell_type": "code",
   "execution_count": null,
   "metadata": {},
   "outputs": [],
   "source": [
    "print(employee_1.is_ppmd())"
   ]
  },
  {
   "cell_type": "code",
   "execution_count": null,
   "metadata": {
    "scrolled": true
   },
   "outputs": [],
   "source": [
    "print(employee_2.is_ppmd())"
   ]
  },
  {
   "cell_type": "markdown",
   "metadata": {},
   "source": [
    "So far our `Employee` class mainly holds data. (First name, last name, level.)\n",
    "\n",
    "We can also add additional **methods** to the class that, for example, could be used to build a timesheet system:"
   ]
  },
  {
   "cell_type": "code",
   "execution_count": null,
   "metadata": {},
   "outputs": [],
   "source": [
    "import bisect\n",
    "from datetime import date, timedelta\n",
    "from typing import Optional\n",
    "\n",
    "import pandas as pd\n",
    "\n",
    "\n",
    "class Employee:\n",
    "\n",
    "    valid_levels = (\n",
    "        \"analyst\",\n",
    "        \"consultant\",\n",
    "        \"senior consultant\",\n",
    "        \"manager\",\n",
    "        \"senior manager\",\n",
    "        \"partner\",\n",
    "        \"principal\",\n",
    "        \"managing director\",\n",
    "    )\n",
    "\n",
    "    def promote(self) -> Optional[str]:\n",
    "        \"\"\"Give Employee a promotion and *return* their new level.\n",
    "        \n",
    "        If they can't be promoted any further, do nothing and return None.\n",
    "        \"\"\"\n",
    "        position_index = self.valid_levels.index(self.level)\n",
    "        if position_index == len(self.valid_levels) - 1:\n",
    "            # Could not promote further. Time for vacation\n",
    "            return None\n",
    "        self.level = self.valid_levels[position_index + 1]\n",
    "        return self.level\n",
    "\n",
    "    def __init__(self, lastname, firstname, level):\n",
    "        self.lastname = lastname\n",
    "        self.firstname = firstname\n",
    "        level = level.casefold()\n",
    "        if level not in self.valid_levels:\n",
    "            raise ValueError(f\"Invalid level: {level}\")\n",
    "        self.level = level\n",
    "        \n",
    "        self._time_table = []\n",
    "\n",
    "    def add_time_entry(self, dt: date, wbs_code: str, hours: float):\n",
    "        \"\"\"Add a single timesheet row for this Employee.\"\"\"\n",
    "        # Use bisect.insort_left() to maintain sortedness by (date, wbs_code)\n",
    "        bisect.insort_left(self._time_table, (dt, wbs_code, hours))\n",
    "        return self\n",
    "    \n",
    "    def timesheet(self, since: Optional[date] = None, until: Optional[date] = None) -> pd.DataFrame:\n",
    "        \"\"\"Generate a timesheet as a Pandas DataFrame.\"\"\"\n",
    "        df = pd.DataFrame(self._time_table, columns=[\"dt\", \"wbs_code\", \"hours\"])\n",
    "        pretty_frame = df.pivot_table(index=\"wbs_code\", columns=\"dt\", values=\"hours\").fillna(0)\n",
    "        return pretty_frame.loc[:, since: until]\n",
    "\n",
    "    def current_week_hours(self) -> dict:\n",
    "        \"\"\"Summarize current-week hours per WBS code.\"\"\"\n",
    "        since = self.most_recent_sunday()\n",
    "        return self.timesheet(since=since).sum(axis=1).to_dict()\n",
    "\n",
    "    @staticmethod\n",
    "    def most_recent_sunday() -> date:\n",
    "        \"\"\"Find the most recent Sunday that falls before today.\"\"\"\n",
    "        today = date.today()\n",
    "        while today.weekday() != 6:\n",
    "            today = today - timedelta(days=1)\n",
    "        return today\n",
    "\n",
    "    @property\n",
    "    def is_ppmd(self) -> bool:\n",
    "        \"\"\"Is this person a PPMD?\"\"\"\n",
    "        return self.level in (\"partner\", \"principal\", \"managing director\")\n",
    "    \n",
    "    def __str__(self):\n",
    "        \"\"\"Let str(x) return a useful string representation of the Employee.\"\"\"\n",
    "        return f\"{self.lastname}, {self.firstname} [{self.__class__.__name__} - {self.level}]\""
   ]
  },
  {
   "cell_type": "code",
   "execution_count": null,
   "metadata": {},
   "outputs": [],
   "source": [
    "emp = Employee(\"Loite\", \"Del\", level=\"Senior Manager\")\n",
    "print(emp)"
   ]
  },
  {
   "cell_type": "code",
   "execution_count": null,
   "metadata": {},
   "outputs": [],
   "source": [
    "emp.level"
   ]
  },
  {
   "cell_type": "code",
   "execution_count": null,
   "metadata": {},
   "outputs": [],
   "source": [
    "emp.is_ppmd()"
   ]
  },
  {
   "cell_type": "markdown",
   "metadata": {},
   "source": [
    "Del has been promoted:"
   ]
  },
  {
   "cell_type": "code",
   "execution_count": null,
   "metadata": {},
   "outputs": [],
   "source": [
    "# Alter some internal state for `emp` and return the resulting new level\n",
    "emp.promote()"
   ]
  },
  {
   "cell_type": "code",
   "execution_count": null,
   "metadata": {},
   "outputs": [],
   "source": [
    "emp.level"
   ]
  },
  {
   "cell_type": "code",
   "execution_count": null,
   "metadata": {},
   "outputs": [],
   "source": [
    "emp.is_ppmd"
   ]
  },
  {
   "cell_type": "markdown",
   "metadata": {},
   "source": [
    "Now Del needs to record some timesheet entries:"
   ]
  },
  {
   "cell_type": "code",
   "execution_count": null,
   "metadata": {},
   "outputs": [],
   "source": [
    "entries = [\n",
    "    {\"dt\": date(2020, 8, 20), \"wbs_code\": \"pto\", \"hours\": 8.0},\n",
    "    {\"dt\": date(2020, 8, 1), \"wbs_code\": \"ced\", \"hours\": 2.0},\n",
    "    {\"dt\": date(2020, 8, 20), \"wbs_code\": \"xyz\", \"hours\": 9.0},\n",
    "    {\"dt\": date(2020, 8, 17), \"wbs_code\": \"ced\", \"hours\": 2.0},\n",
    "    {\"dt\": date(2020, 8, 17), \"wbs_code\": \"abc\", \"hours\": 11.5},\n",
    "    {\"dt\": date(2020, 8, 18), \"wbs_code\": \"gaa\", \"hours\": 1.0},\n",
    "    {\"dt\": date(2020, 8, 18), \"wbs_code\": \"xyz\", \"hours\": 7.0},\n",
    "    {\"dt\": date(2020, 8, 19), \"wbs_code\": \"ced\", \"hours\": 2.0},\n",
    "    {\"dt\": date(2020, 8, 16), \"wbs_code\": \"ced\", \"hours\": 2.0}\n",
    "]\n",
    "for e in entries:\n",
    "    emp.add_time_entry(**e)"
   ]
  },
  {
   "cell_type": "code",
   "execution_count": null,
   "metadata": {
    "scrolled": true
   },
   "outputs": [],
   "source": [
    "emp.timesheet()"
   ]
  },
  {
   "cell_type": "code",
   "execution_count": null,
   "metadata": {},
   "outputs": [],
   "source": [
    "emp.timesheet(since=date(2020, 8, 17))"
   ]
  },
  {
   "cell_type": "code",
   "execution_count": null,
   "metadata": {},
   "outputs": [],
   "source": [
    "emp.add_time_entry(dt=date(2021, 1, 22), wbs_code=\"pto\", hours=8.0)"
   ]
  },
  {
   "cell_type": "code",
   "execution_count": null,
   "metadata": {},
   "outputs": [],
   "source": [
    "emp.current_week_hours()"
   ]
  },
  {
   "cell_type": "markdown",
   "metadata": {},
   "source": [
    "One concept that this example illustrates is [**composition**](https://realpython.com/inheritance-composition-python/): each `Employee` holds a `_time_table` list representing rows in a timesheet."
   ]
  },
  {
   "cell_type": "markdown",
   "metadata": {},
   "source": [
    "### Inheritance"
   ]
  },
  {
   "cell_type": "markdown",
   "metadata": {},
   "source": [
    "The `Employee` class above is narrow-minded in that it only accounts for Deloitte's Traditionalist track levels.\n",
    "\n",
    "We can create separate classes for `Traditionalist`, `Specialist`, and others through **inheritance**.\n",
    "\n",
    "`Employee` becomes the **base class**.  `Traditionalist` and `Specialist` are the **child classes** that **inherit** from `Employee`.  `Employee` defines pieces that are common to its subclasses.  These will be inherited unless they are overriden in the subclass:"
   ]
  },
  {
   "cell_type": "code",
   "execution_count": null,
   "metadata": {},
   "outputs": [],
   "source": [
    "class Traditionalist(Employee):\n",
    "    valid_levels = (\n",
    "        \"analyst\",\n",
    "        \"consultant\",\n",
    "        \"senior consultant\",\n",
    "        \"manager\",\n",
    "        \"senior manager\",\n",
    "        \"partner\",\n",
    "        \"principal\",\n",
    "        \"managing director\",      \n",
    "    )\n",
    "\n",
    "\n",
    "class Specialist(Employee):\n",
    "    valid_levels = (\n",
    "        \"analyst\",\n",
    "        \"specialist senior\",\n",
    "        \"specialist master\",\n",
    "        \"specialist leader\",\n",
    "        \"managing director\",\n",
    "    )"
   ]
  },
  {
   "cell_type": "code",
   "execution_count": null,
   "metadata": {
    "scrolled": true
   },
   "outputs": [],
   "source": [
    "joe = Specialist(\"Smith\", \"Joe\", \"specialist master\")\n",
    "print(joe)"
   ]
  },
  {
   "cell_type": "code",
   "execution_count": null,
   "metadata": {},
   "outputs": [],
   "source": [
    "try:\n",
    "    jane = Traditionalist(\"Doe\", \"Jane\", \"specialist leader\")\n",
    "except Exception as e:\n",
    "    print(e)"
   ]
  },
  {
   "cell_type": "markdown",
   "metadata": {},
   "source": [
    "Inherited methods still behave the same:"
   ]
  },
  {
   "cell_type": "code",
   "execution_count": null,
   "metadata": {},
   "outputs": [],
   "source": [
    "joe.is_ppmd()"
   ]
  },
  {
   "cell_type": "code",
   "execution_count": null,
   "metadata": {},
   "outputs": [],
   "source": [
    "joe.add_time_entry(dt=date(2020, 8, 20), wbs_code=\"hgi\", hours=9.25).timesheet()"
   ]
  },
  {
   "cell_type": "markdown",
   "metadata": {},
   "source": [
    "### OOP Example 2: Representing Geography"
   ]
  },
  {
   "cell_type": "markdown",
   "metadata": {},
   "source": [
    "In this section, you'll continue with another exercise in OOP, but switch to building a new `Coordinates` class that represents a pair of geographical _(latitude, longtitude)_ coordinates."
   ]
  },
  {
   "cell_type": "code",
   "execution_count": null,
   "metadata": {},
   "outputs": [],
   "source": [
    "from math import radians, asin, cos, sin, sqrt\n",
    "\n",
    "class Coordinates:\n",
    "\n",
    "    def __init__(self, lat: float, lng: float):\n",
    "        \"\"\"Make a new pair of coordinates.\n",
    "        \n",
    "        lat and lng: decimal degrees.\n",
    "        \"\"\"\n",
    "        self.lat = lat\n",
    "        self.lng = lat\n",
    "        \n",
    "        # Functions from `math` expect coordinates expressed in radians, not degrees\n",
    "        self._phi = radians(lat)\n",
    "        self._lambda = radians(lng)\n",
    "\n",
    "    def __str__(self):\n",
    "        \"\"\"Make a human-readable string representation of the coordinates pair.\"\"\"\n",
    "        return f\"<{self.lat}, {self.lng}>\""
   ]
  },
  {
   "cell_type": "markdown",
   "metadata": {},
   "source": [
    "What are some features of modelling a coordinate pair with a `Coordinates` class?\n",
    "\n",
    "- **Data encapsulation** and **namespacing**: You no longer have a bunch of individual variables floating around.  Each `Coordinate` instance gets its own `.lat`, `.lng` (degrees) and `._phi`, `._lambda` (radians).\n",
    "- **Extensibility**: You can add additional functionality just by defining new methods."
   ]
  },
  {
   "cell_type": "markdown",
   "metadata": {},
   "source": [
    "## Exercises: OOP"
   ]
  },
  {
   "cell_type": "markdown",
   "metadata": {},
   "source": [
    "### Exercise 9:"
   ]
  },
  {
   "cell_type": "markdown",
   "metadata": {},
   "source": [
    "Below you'll see a `Coordinates` class that represents a single pair of geometric coordinates.\n",
    "\n",
    "**<span style=\"color:red\">Challenge:</span>** Implement the `Coordinates.distance_from()` **instance method** to determine the distance from one `Coordinate` to another `Coordinate`, in kilometers.\n",
    "\n",
    "Use the Haversine formula and trigonemtric functions from the [`math`](https://docs.python.org/3/library/math.html) module:\n",
    "\n",
    "\\begin{equation*}\n",
    "d = 2r \\arcsin \\sqrt{\\sin^2 \\frac{1}{2} (\\phi_2 - \\phi_1) + \\cos{\\phi_1} \\cos{\\phi_2} \\sin^2 \\frac{1}{2} (\\lambda_2 - \\lambda_1)}\n",
    "\\end{equation*}\n",
    "\n",
    "where:\n",
    "\n",
    "- $\\phi_1$ and $\\lambda_1$ are latitude and longitude for Point 1, respectively\n",
    "- $\\phi_2$ and $\\lambda_2$ are latitude and longitude for Point 2, respectively\n",
    "\n",
    "Hints:\n",
    "\n",
    "- The Python functions for calculating different trigonometric functions have been imported already. For example, _arcsin_ is `math.asin`.\n",
    "- Remember to `return` a float value from your `.distance_from()` method.\n",
    "- `R = 6371` (radius of the earth in KM) is a constant that you'll need in the calculation; it is already provided below."
   ]
  },
  {
   "cell_type": "markdown",
   "metadata": {},
   "source": [
    "**<span style=\"color:green\">Add your answer here</span>** (by adding Python code to the `.distance_from()` method body):"
   ]
  },
  {
   "cell_type": "code",
   "execution_count": null,
   "metadata": {},
   "outputs": [],
   "source": [
    "from math import radians, asin, cos, sin, sqrt\n",
    "\n",
    "class Coordinates:\n",
    "\n",
    "    def __init__(self, lat: float, lng: float):\n",
    "        \"\"\"Make a new pair of coordinates.\"\"\"\n",
    "        self.lat = lat\n",
    "        self.lng = lng\n",
    "        \n",
    "        # Functions from `math` expect coordinates expressed in radians, not degrees\n",
    "        self._phi = radians(lat)\n",
    "        self._lambda = radians(lng)\n",
    "\n",
    "    def __str__(self):\n",
    "        \"\"\"Make a human-readable string representation of the coordinates pair.\"\"\"\n",
    "        return f\"<{self.lat}, {self.lng}>\"\n",
    "\n",
    "    def distance_from(self, other):\n",
    "        \"\"\"Approximate distance in KM from one Coordinate to `other`.\"\"\"\n",
    "        R = 6371  # Radius of Earth in KM\n",
    "        raise NotImplementedError(\"TODO: Write me!\")"
   ]
  },
  {
   "cell_type": "markdown",
   "metadata": {},
   "source": [
    "**<span style=\"color:blue\">Check your answer:</span>**"
   ]
  },
  {
   "cell_type": "code",
   "execution_count": null,
   "metadata": {},
   "outputs": [],
   "source": [
    "import math\n",
    "\n",
    "c1 = Coordinates(38.8977559, -77.0704521)\n",
    "c2 = Coordinates(34.9201086, -95.6922305)\n",
    "\n",
    "\n",
    "assert hasattr(Coordinates, \"distance_from\") and callable(Coordinates.distance_from), \"Must define .distance_from()\"\n",
    "try:\n",
    "    assert math.isclose(c1.distance_from(c2), 1713, abs_tol=5.0), \"Distance off by greater than 5 km\"\n",
    "except TypeError as e:\n",
    "    raise AssertionError(\"Did you forget to add a parameter to .distance_from()?\") from e"
   ]
  },
  {
   "cell_type": "markdown",
   "metadata": {},
   "source": [
    "### Exercise 10"
   ]
  },
  {
   "cell_type": "markdown",
   "metadata": {},
   "source": [
    "Below you'll see a `Coordinates` class that represents a single pair of geometric coordinates.\n",
    "\n",
    "**<span style=\"color:red\">Challenge:</span>** Implement the `Coordinates.from_string()` **classmethod** to let a user form a new coordinates pair from a `str` representing a coordinates pair.\n",
    "\n",
    "Allow the input coordinates to be separated by:\n",
    "\n",
    "- a comma\n",
    "- whitespace\n",
    "- or a combination of the two\n",
    "\n",
    "Examples:\n",
    "\n",
    "```python\n",
    "c1 = Coordinates.from_string(\"38.8977559, -77.0704521\")\n",
    "c2 = Coordinates.from_string(\"38.8977559,-77.0704521\")\n",
    "```"
   ]
  },
  {
   "cell_type": "markdown",
   "metadata": {},
   "source": [
    "**<span style=\"color:green\">Add your answer here</span>** (by adding Python code to the `.from_string()` classmethod body):"
   ]
  },
  {
   "cell_type": "code",
   "execution_count": null,
   "metadata": {},
   "outputs": [],
   "source": [
    "from math import radians\n",
    "\n",
    "class Coordinates(object):\n",
    "\n",
    "    def __init__(self, lat: float, lng: float):\n",
    "        \"\"\"Make a new pair of coordinates.\"\"\"\n",
    "        self.lat = lat\n",
    "        self.lng = lng\n",
    "        \n",
    "        # Functions from `math` expect coordinates expressed in radians, not degrees\n",
    "        self._phi = radians(lat)\n",
    "        self._lambda = radians(lng)\n",
    "\n",
    "    def __str__(self):\n",
    "        \"\"\"Make a human-readable string representation of the coordinates pair.\"\"\"\n",
    "        return f\"<{self.lat}, {self.lng}>\"\n",
    "\n",
    "    @classmethod\n",
    "    def from_string(cls, coords: str):\n",
    "        \"\"\"Parse a string into a Coordinates object.\n",
    "        \n",
    "        coords: a str representing the coordinates pair, such as '38.8977559, -77.0704521'\n",
    "        \"\"\"\n",
    "        # Allow the input string to be separated by a comma, whitespace, or combination of the two\n",
    "        raise NotImplementedError(\"TODO: Write me!\")"
   ]
  },
  {
   "cell_type": "markdown",
   "metadata": {},
   "source": [
    "**<span style=\"color:blue\">Check your answer:</span>**"
   ]
  },
  {
   "cell_type": "code",
   "execution_count": null,
   "metadata": {},
   "outputs": [],
   "source": [
    "try:\n",
    "    import numpy as np\n",
    "except ModuleNotFoundError as e:\n",
    "    raise AssertionError(\"Looks like you're missing Numpy to check this solution\") from e\n",
    "\n",
    "assert hasattr(Coordinates, \"from_string\") and callable(Coordinates.from_string), \"Must implement .from_string()\"\n",
    "c1 = Coordinates(38.8977559, -77.0704521)\n",
    "c2 = Coordinates.from_string(\"38.8977559, -77.0704521\")\n",
    "c3 = Coordinates.from_string(\"38.8977559 -77.0704521\")\n",
    "c4 = Coordinates.from_string(\"38.8977559,-77.0704521\")\n",
    "\n",
    "assert np.ptp([c1.lat, c2.lat, c3.lat, c4.lat]) < 0.0001\n",
    "assert np.ptp([c1.lng, c2.lng, c3.lng, c4.lng]) < 0.0001"
   ]
  },
  {
   "cell_type": "markdown",
   "metadata": {},
   "source": [
    "## Conclusion"
   ]
  },
  {
   "cell_type": "markdown",
   "metadata": {},
   "source": [
    "Here's a summary of what you covered in this tutorial:\n",
    "\n",
    "- `list`, `set`, and `dict` comprehension: Create new data structures through concise **Pythonic** syntax.\n",
    "- Object-oriented programming: Objects **encapsulate data** and **provide functionality**."
   ]
  },
  {
   "cell_type": "markdown",
   "metadata": {},
   "source": [
    "## More Resources"
   ]
  },
  {
   "cell_type": "markdown",
   "metadata": {},
   "source": [
    "Interested in diving deeper?  Here are some places to start:"
   ]
  },
  {
   "cell_type": "markdown",
   "metadata": {},
   "source": [
    "- **docs.python.org**: [List comprehensions](https://docs.python.org/3/tutorial/datastructures.html#list-comprehensions)\n",
    "- **attrs.org**: [`attrs` - classes without boilerplate](https://www.attrs.org/en/stable/)\n",
    "- **realpython.com**: [Object-oriented programming (OOP)](https://realpython.com/search?q=oop)\n",
    "- **wikipedia.org**: [Haversine formula](https://en.wikipedia.org/wiki/Haversine_formula)\n",
    "- **wikipedia.org**: [Standard deviation](https://en.wikipedia.org/wiki/Standard_deviation)\n",
    "- **docs.python.org**: [PEP 8, Style Guide for Python Code](https://www.python.org/dev/peps/pep-0008/)"
   ]
  }
 ],
 "metadata": {
  "kernelspec": {
   "display_name": "Python 3 (ipykernel)",
   "language": "python",
   "name": "python3"
  },
  "language_info": {
   "codemirror_mode": {
    "name": "ipython",
    "version": 3
   },
   "file_extension": ".py",
   "mimetype": "text/x-python",
   "name": "python",
   "nbconvert_exporter": "python",
   "pygments_lexer": "ipython3",
   "version": "3.9.7"
  }
 },
 "nbformat": 4,
 "nbformat_minor": 4
}
